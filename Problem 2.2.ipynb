{
 "cells": [
  {
   "cell_type": "markdown",
   "id": "138f5ffe",
   "metadata": {},
   "source": [
    "## 第二问：亚类划分"
   ]
  },
  {
   "cell_type": "code",
   "execution_count": 1,
   "id": "18e1e15e",
   "metadata": {},
   "outputs": [],
   "source": [
    "from sklearn.pipeline import make_pipeline\n",
    "from sklearn.preprocessing import StandardScaler\n",
    "from sklearn.cluster import KMeans\n",
    "import pandas as pd\n",
    "import numpy as np\n",
    "from sklearn.utils import shuffle\n",
    "from matplotlib import pyplot as plt\n",
    "from sklearn.metrics import silhouette_score\n",
    "from matplotlib.font_manager import FontProperties \n",
    "from pandas.plotting import scatter_matrix"
   ]
  },
  {
   "cell_type": "code",
   "execution_count": 7,
   "id": "34bb548e",
   "metadata": {},
   "outputs": [
    {
     "data": {
      "text/html": [
       "<div>\n",
       "<style scoped>\n",
       "    .dataframe tbody tr th:only-of-type {\n",
       "        vertical-align: middle;\n",
       "    }\n",
       "\n",
       "    .dataframe tbody tr th {\n",
       "        vertical-align: top;\n",
       "    }\n",
       "\n",
       "    .dataframe thead th {\n",
       "        text-align: right;\n",
       "    }\n",
       "</style>\n",
       "<table border=\"1\" class=\"dataframe\">\n",
       "  <thead>\n",
       "    <tr style=\"text-align: right;\">\n",
       "      <th></th>\n",
       "      <th>文物采样点</th>\n",
       "      <th>类型</th>\n",
       "      <th>颜色</th>\n",
       "      <th>纹饰</th>\n",
       "      <th>表面风化</th>\n",
       "      <th>二氧化硅(SiO2)</th>\n",
       "      <th>氧化钠(Na2O)</th>\n",
       "      <th>氧化钾(K2O)</th>\n",
       "      <th>氧化钙(CaO)</th>\n",
       "      <th>氧化镁(MgO)</th>\n",
       "      <th>氧化铝(Al2O3)</th>\n",
       "      <th>氧化铁(Fe2O3)</th>\n",
       "      <th>氧化铜(CuO)</th>\n",
       "      <th>氧化铅(PbO)</th>\n",
       "      <th>氧化钡(BaO)</th>\n",
       "      <th>五氧化二磷(P2O5)</th>\n",
       "      <th>氧化锶(SrO)</th>\n",
       "      <th>氧化锡(SnO2)</th>\n",
       "      <th>二氧化硫(SO2)</th>\n",
       "    </tr>\n",
       "  </thead>\n",
       "  <tbody>\n",
       "    <tr>\n",
       "      <th>0</th>\n",
       "      <td>34</td>\n",
       "      <td>铅钡</td>\n",
       "      <td>深绿</td>\n",
       "      <td>C</td>\n",
       "      <td>风化</td>\n",
       "      <td>35.78</td>\n",
       "      <td>0.00</td>\n",
       "      <td>0.25</td>\n",
       "      <td>0.78</td>\n",
       "      <td>0.00</td>\n",
       "      <td>1.62</td>\n",
       "      <td>0.47</td>\n",
       "      <td>1.51</td>\n",
       "      <td>46.55</td>\n",
       "      <td>10.00</td>\n",
       "      <td>0.34</td>\n",
       "      <td>0.22</td>\n",
       "      <td>0.0</td>\n",
       "      <td>0.00</td>\n",
       "    </tr>\n",
       "    <tr>\n",
       "      <th>1</th>\n",
       "      <td>14</td>\n",
       "      <td>高钾</td>\n",
       "      <td>深绿</td>\n",
       "      <td>C</td>\n",
       "      <td>无风化</td>\n",
       "      <td>62.47</td>\n",
       "      <td>3.38</td>\n",
       "      <td>12.28</td>\n",
       "      <td>8.23</td>\n",
       "      <td>0.66</td>\n",
       "      <td>9.23</td>\n",
       "      <td>0.50</td>\n",
       "      <td>0.47</td>\n",
       "      <td>1.62</td>\n",
       "      <td>0.00</td>\n",
       "      <td>0.16</td>\n",
       "      <td>0.00</td>\n",
       "      <td>0.0</td>\n",
       "      <td>0.00</td>\n",
       "    </tr>\n",
       "    <tr>\n",
       "      <th>2</th>\n",
       "      <td>04</td>\n",
       "      <td>高钾</td>\n",
       "      <td>蓝绿</td>\n",
       "      <td>A</td>\n",
       "      <td>无风化</td>\n",
       "      <td>65.88</td>\n",
       "      <td>0.00</td>\n",
       "      <td>9.67</td>\n",
       "      <td>7.12</td>\n",
       "      <td>1.56</td>\n",
       "      <td>6.44</td>\n",
       "      <td>2.06</td>\n",
       "      <td>2.18</td>\n",
       "      <td>0.00</td>\n",
       "      <td>0.00</td>\n",
       "      <td>0.79</td>\n",
       "      <td>0.00</td>\n",
       "      <td>0.0</td>\n",
       "      <td>0.36</td>\n",
       "    </tr>\n",
       "    <tr>\n",
       "      <th>3</th>\n",
       "      <td>08</td>\n",
       "      <td>铅钡</td>\n",
       "      <td>紫</td>\n",
       "      <td>B</td>\n",
       "      <td>风化</td>\n",
       "      <td>20.14</td>\n",
       "      <td>0.00</td>\n",
       "      <td>0.00</td>\n",
       "      <td>1.48</td>\n",
       "      <td>0.00</td>\n",
       "      <td>1.34</td>\n",
       "      <td>0.00</td>\n",
       "      <td>10.41</td>\n",
       "      <td>28.68</td>\n",
       "      <td>31.23</td>\n",
       "      <td>3.59</td>\n",
       "      <td>0.37</td>\n",
       "      <td>0.0</td>\n",
       "      <td>2.58</td>\n",
       "    </tr>\n",
       "    <tr>\n",
       "      <th>4</th>\n",
       "      <td>42未风化点2</td>\n",
       "      <td>铅钡</td>\n",
       "      <td>浅蓝</td>\n",
       "      <td>A</td>\n",
       "      <td>风化</td>\n",
       "      <td>51.33</td>\n",
       "      <td>5.68</td>\n",
       "      <td>0.35</td>\n",
       "      <td>0.00</td>\n",
       "      <td>1.16</td>\n",
       "      <td>5.66</td>\n",
       "      <td>0.00</td>\n",
       "      <td>2.72</td>\n",
       "      <td>20.12</td>\n",
       "      <td>10.88</td>\n",
       "      <td>0.00</td>\n",
       "      <td>0.00</td>\n",
       "      <td>0.0</td>\n",
       "      <td>0.00</td>\n",
       "    </tr>\n",
       "    <tr>\n",
       "      <th>...</th>\n",
       "      <td>...</td>\n",
       "      <td>...</td>\n",
       "      <td>...</td>\n",
       "      <td>...</td>\n",
       "      <td>...</td>\n",
       "      <td>...</td>\n",
       "      <td>...</td>\n",
       "      <td>...</td>\n",
       "      <td>...</td>\n",
       "      <td>...</td>\n",
       "      <td>...</td>\n",
       "      <td>...</td>\n",
       "      <td>...</td>\n",
       "      <td>...</td>\n",
       "      <td>...</td>\n",
       "      <td>...</td>\n",
       "      <td>...</td>\n",
       "      <td>...</td>\n",
       "      <td>...</td>\n",
       "    </tr>\n",
       "    <tr>\n",
       "      <th>62</th>\n",
       "      <td>36</td>\n",
       "      <td>铅钡</td>\n",
       "      <td>深绿</td>\n",
       "      <td>C</td>\n",
       "      <td>风化</td>\n",
       "      <td>39.57</td>\n",
       "      <td>2.22</td>\n",
       "      <td>0.14</td>\n",
       "      <td>0.37</td>\n",
       "      <td>0.00</td>\n",
       "      <td>1.60</td>\n",
       "      <td>0.32</td>\n",
       "      <td>0.68</td>\n",
       "      <td>41.61</td>\n",
       "      <td>10.83</td>\n",
       "      <td>0.07</td>\n",
       "      <td>0.22</td>\n",
       "      <td>0.0</td>\n",
       "      <td>0.00</td>\n",
       "    </tr>\n",
       "    <tr>\n",
       "      <th>63</th>\n",
       "      <td>20</td>\n",
       "      <td>铅钡</td>\n",
       "      <td>浅蓝</td>\n",
       "      <td>A</td>\n",
       "      <td>无风化</td>\n",
       "      <td>37.36</td>\n",
       "      <td>0.00</td>\n",
       "      <td>0.71</td>\n",
       "      <td>0.00</td>\n",
       "      <td>0.00</td>\n",
       "      <td>5.45</td>\n",
       "      <td>1.51</td>\n",
       "      <td>4.78</td>\n",
       "      <td>9.30</td>\n",
       "      <td>23.55</td>\n",
       "      <td>5.75</td>\n",
       "      <td>0.00</td>\n",
       "      <td>0.0</td>\n",
       "      <td>0.00</td>\n",
       "    </tr>\n",
       "    <tr>\n",
       "      <th>64</th>\n",
       "      <td>53未风化点</td>\n",
       "      <td>铅钡</td>\n",
       "      <td>浅蓝</td>\n",
       "      <td>A</td>\n",
       "      <td>风化</td>\n",
       "      <td>63.66</td>\n",
       "      <td>3.04</td>\n",
       "      <td>0.11</td>\n",
       "      <td>0.78</td>\n",
       "      <td>1.14</td>\n",
       "      <td>6.06</td>\n",
       "      <td>0.00</td>\n",
       "      <td>0.54</td>\n",
       "      <td>13.66</td>\n",
       "      <td>8.99</td>\n",
       "      <td>0.00</td>\n",
       "      <td>0.27</td>\n",
       "      <td>0.0</td>\n",
       "      <td>0.00</td>\n",
       "    </tr>\n",
       "    <tr>\n",
       "      <th>65</th>\n",
       "      <td>12</td>\n",
       "      <td>高钾</td>\n",
       "      <td>蓝绿</td>\n",
       "      <td>B</td>\n",
       "      <td>风化</td>\n",
       "      <td>94.29</td>\n",
       "      <td>0.00</td>\n",
       "      <td>1.01</td>\n",
       "      <td>0.72</td>\n",
       "      <td>0.00</td>\n",
       "      <td>1.46</td>\n",
       "      <td>0.29</td>\n",
       "      <td>1.65</td>\n",
       "      <td>0.00</td>\n",
       "      <td>0.00</td>\n",
       "      <td>0.15</td>\n",
       "      <td>0.00</td>\n",
       "      <td>0.0</td>\n",
       "      <td>0.00</td>\n",
       "    </tr>\n",
       "    <tr>\n",
       "      <th>66</th>\n",
       "      <td>47</td>\n",
       "      <td>铅钡</td>\n",
       "      <td>浅蓝</td>\n",
       "      <td>A</td>\n",
       "      <td>无风化</td>\n",
       "      <td>51.54</td>\n",
       "      <td>4.66</td>\n",
       "      <td>0.29</td>\n",
       "      <td>0.87</td>\n",
       "      <td>0.61</td>\n",
       "      <td>3.06</td>\n",
       "      <td>0.00</td>\n",
       "      <td>0.65</td>\n",
       "      <td>25.40</td>\n",
       "      <td>9.23</td>\n",
       "      <td>0.10</td>\n",
       "      <td>0.85</td>\n",
       "      <td>0.0</td>\n",
       "      <td>0.00</td>\n",
       "    </tr>\n",
       "  </tbody>\n",
       "</table>\n",
       "<p>67 rows × 19 columns</p>\n",
       "</div>"
      ],
      "text/plain": [
       "      文物采样点  类型  颜色 纹饰 表面风化  二氧化硅(SiO2)  氧化钠(Na2O)  氧化钾(K2O)  氧化钙(CaO)  \\\n",
       "0        34  铅钡  深绿  C   风化       35.78       0.00      0.25      0.78   \n",
       "1        14  高钾  深绿  C  无风化       62.47       3.38     12.28      8.23   \n",
       "2        04  高钾  蓝绿  A  无风化       65.88       0.00      9.67      7.12   \n",
       "3        08  铅钡   紫  B   风化       20.14       0.00      0.00      1.48   \n",
       "4   42未风化点2  铅钡  浅蓝  A   风化       51.33       5.68      0.35      0.00   \n",
       "..      ...  ..  .. ..  ...         ...        ...       ...       ...   \n",
       "62       36  铅钡  深绿  C   风化       39.57       2.22      0.14      0.37   \n",
       "63       20  铅钡  浅蓝  A  无风化       37.36       0.00      0.71      0.00   \n",
       "64   53未风化点  铅钡  浅蓝  A   风化       63.66       3.04      0.11      0.78   \n",
       "65       12  高钾  蓝绿  B   风化       94.29       0.00      1.01      0.72   \n",
       "66       47  铅钡  浅蓝  A  无风化       51.54       4.66      0.29      0.87   \n",
       "\n",
       "    氧化镁(MgO)  氧化铝(Al2O3)  氧化铁(Fe2O3)  氧化铜(CuO)  氧化铅(PbO)  氧化钡(BaO)  \\\n",
       "0       0.00        1.62        0.47      1.51     46.55     10.00   \n",
       "1       0.66        9.23        0.50      0.47      1.62      0.00   \n",
       "2       1.56        6.44        2.06      2.18      0.00      0.00   \n",
       "3       0.00        1.34        0.00     10.41     28.68     31.23   \n",
       "4       1.16        5.66        0.00      2.72     20.12     10.88   \n",
       "..       ...         ...         ...       ...       ...       ...   \n",
       "62      0.00        1.60        0.32      0.68     41.61     10.83   \n",
       "63      0.00        5.45        1.51      4.78      9.30     23.55   \n",
       "64      1.14        6.06        0.00      0.54     13.66      8.99   \n",
       "65      0.00        1.46        0.29      1.65      0.00      0.00   \n",
       "66      0.61        3.06        0.00      0.65     25.40      9.23   \n",
       "\n",
       "    五氧化二磷(P2O5)  氧化锶(SrO)  氧化锡(SnO2)  二氧化硫(SO2)  \n",
       "0          0.34      0.22        0.0       0.00  \n",
       "1          0.16      0.00        0.0       0.00  \n",
       "2          0.79      0.00        0.0       0.36  \n",
       "3          3.59      0.37        0.0       2.58  \n",
       "4          0.00      0.00        0.0       0.00  \n",
       "..          ...       ...        ...        ...  \n",
       "62         0.07      0.22        0.0       0.00  \n",
       "63         5.75      0.00        0.0       0.00  \n",
       "64         0.00      0.27        0.0       0.00  \n",
       "65         0.15      0.00        0.0       0.00  \n",
       "66         0.10      0.85        0.0       0.00  \n",
       "\n",
       "[67 rows x 19 columns]"
      ]
     },
     "execution_count": 7,
     "metadata": {},
     "output_type": "execute_result"
    }
   ],
   "source": [
    "df=pd.read_excel('副本附件2.xlsx')\n",
    "df = shuffle(df, random_state=42) \n",
    "df = df.reset_index(drop = True)\n",
    "df"
   ]
  },
  {
   "cell_type": "markdown",
   "id": "3c59a5cc",
   "metadata": {},
   "source": [
    "### 对高钾进行亚类划分"
   ]
  },
  {
   "cell_type": "code",
   "execution_count": 10,
   "id": "0ee20580",
   "metadata": {},
   "outputs": [
    {
     "data": {
      "image/png": "[encoded data removed]",
      "text/plain": [
       "<Figure size 432x288 with 1 Axes>"
      ]
     },
     "metadata": {
      "needs_background": "light"
     },
     "output_type": "display_data"
    },
    {
     "name": "stdout",
     "output_type": "stream",
     "text": [
      "最优k值： 7\n"
     ]
    },
    {
     "data": {
      "text/plain": [
       "<Figure size 432x288 with 0 Axes>"
      ]
     },
     "metadata": {},
     "output_type": "display_data"
    }
   ],
   "source": [
    "# k值寻优，敏感性分析\n",
    "plt.rcParams['font.sans-serif'] = ['SimHei']\n",
    "z_norm = lambda x:(x-np.mean(x))/np.std(x)\n",
    "df_gj = df[df['类型']=='高钾']\n",
    "df_norm = df_gj[['氧化铅(PbO)','氧化钡(BaO)','氧化锶(SrO)','氧化钾(K2O)']].apply(z_norm) \n",
    "X = np.array(df_norm)\n",
    "score = []\n",
    "\n",
    "for i in range(2,len(df_gj)):\n",
    "    km = KMeans(n_clusters=i).fit(X)\n",
    "    y_pred = km.labels_\n",
    "    score.append(silhouette_score(X, y_pred))\n",
    "    \n",
    "plt.plot(np.arange(2,len(df_gj)),score)\n",
    "plt.scatter(np.arange(2,len(df_gj)),score)\n",
    "plt.xlabel('k值')\n",
    "plt.ylabel('轮廓系数')\n",
    "plt.title('最优k值')\n",
    "plt.show()\n",
    "print('最优k值：',score.index(max(score))+2)\n",
    "plt.savefig(\"C:\\\\Users\\\\HUAWEI\\\\Desktop\\\\2022国赛\\\\1.png\")"
   ]
  },
  {
   "cell_type": "code",
   "execution_count": null,
   "id": "4825fb8b",
   "metadata": {},
   "outputs": [],
   "source": [
    "# kmeans聚类\n",
    "km = KMeans(n_clusters=7).fit(X)\n",
    "print(\"centroids:\\n\", km.cluster_centers_) \n",
    "print(\"results:\\n\", km.labels_) \n",
    "y_pred = km.labels_\n",
    "df_gj  = df_gj.reset_index(drop = True)\n",
    "df_gj['Result'] = km.labels_"
   ]
  },
  {
   "cell_type": "code",
   "execution_count": null,
   "id": "9935bc2d",
   "metadata": {},
   "outputs": [],
   "source": [
    "# 将center去标准化\n",
    "new  = np.transpose(km.cluster_centers_)\n",
    "new[0] = new[0]*np.std(df_gj['氧化铅(PbO)'])+np.mean(df_gj['氧化铅(PbO)'])\n",
    "new[1] = new[1]*np.std(df_gj['氧化钡(BaO)'])+np.mean(df_gj['氧化钡(BaO)'])\n",
    "new[2] = new[2]*np.std(df_gj['氧化锶(SrO)'])+np.mean(df_gj['氧化锶(SrO)'])\n",
    "new[3] = new[3]*np.std(df_gj['氧化钾(K2O)'])+np.mean(df_gj['氧化钾(K2O)'])\n",
    "new2 = np.transpose(new)\n",
    "new2"
   ]
  },
  {
   "cell_type": "code",
   "execution_count": null,
   "id": "2f2a924e",
   "metadata": {},
   "outputs": [],
   "source": [
    "# 寻找分类结果\n",
    "for j in range(7):\n",
    "    for i in range(len(df_gj)):\n",
    "        if df_gj.loc[i,'Result'] == j:\n",
    "            print(df_gj.loc[i,'文物采样点'])\n",
    "    print('group',j)"
   ]
  },
  {
   "cell_type": "code",
   "execution_count": null,
   "id": "f1bbee93",
   "metadata": {},
   "outputs": [],
   "source": [
    "# 合理性分析\n",
    "df_d1 = df_gj.copy()\n",
    "plt.figure(figsize = (20,10))\n",
    "plt.title('高钾亚类划分可视化',fontsize = 20)\n",
    "pd.plotting.andrews_curves(df_d1.iloc[:,5:],'Result',color = ['red','orange','green','black'])"
   ]
  },
  {
   "cell_type": "markdown",
   "id": "b07578fc",
   "metadata": {},
   "source": [
    "### 对铅钡进行亚类划分"
   ]
  },
  {
   "cell_type": "code",
   "execution_count": 13,
   "id": "916cd797",
   "metadata": {},
   "outputs": [
    {
     "data": {
      "image/png": "[encoded data removed]",
      "text/plain": [
       "<Figure size 432x288 with 1 Axes>"
      ]
     },
     "metadata": {
      "needs_background": "light"
     },
     "output_type": "display_data"
    },
    {
     "name": "stdout",
     "output_type": "stream",
     "text": [
      "最优k值 4\n"
     ]
    },
    {
     "data": {
      "text/plain": [
       "<Figure size 432x288 with 0 Axes>"
      ]
     },
     "metadata": {},
     "output_type": "display_data"
    }
   ],
   "source": [
    "# k值寻优，敏感性分析\n",
    "z_norm = lambda x:(x-np.mean(x))/np.std(x)\n",
    "df_qb = df[df['类型']=='铅钡']\n",
    "df_norm = df_qb[['氧化铅(PbO)','氧化钡(BaO)','氧化锶(SrO)','氧化钾(K2O)']].apply(z_norm)\n",
    "X = np.array(df_norm)\n",
    "score = []\n",
    "for i in range(2,len(df_qb)):\n",
    "    km = KMeans(n_clusters=i).fit(X)\n",
    "    y_pred = km.labels_\n",
    "    score.append(silhouette_score(X, y_pred))\n",
    "    \n",
    "plt.plot(np.arange(2,len(df_qb)),score)\n",
    "plt.scatter(np.arange(2,len(df_qb)),score)\n",
    "plt.xlabel('k值')\n",
    "plt.ylabel('轮廓系数')\n",
    "plt.title('最优k值')\n",
    "plt.show()\n",
    "plt.savefig(\"C:\\\\Users\\\\HUAWEI\\\\Desktop\\\\2022国赛\\\\2.jpg\")\n",
    "print('最优k值',(score.index(max(score))+2))"
   ]
  },
  {
   "cell_type": "code",
   "execution_count": null,
   "id": "31e2003a",
   "metadata": {},
   "outputs": [],
   "source": [
    "# kmeans聚类\n",
    "km = KMeans(n_clusters=4).fit(X)\n",
    "print(\"centroids:\\n\", km.cluster_centers_) \n",
    "print(\"results:\\n\", km.labels_) \n",
    "y_pred = km.labels_\n",
    "df_qb  = df_qb.reset_index(drop = True)\n",
    "df_qb['Result'] = km.labels_"
   ]
  },
  {
   "cell_type": "code",
   "execution_count": null,
   "id": "baf7538a",
   "metadata": {},
   "outputs": [],
   "source": [
    "# 去标准化\n",
    "new  = np.transpose(km.cluster_centers_)\n",
    "new[0] = new[0]*np.std(df_qb['氧化铅(PbO)'])+np.mean(df_qb['氧化铅(PbO)'])\n",
    "new[1] = new[1]*np.std(df_qb['氧化钡(BaO)'])+np.mean(df_qb['氧化钡(BaO)'])\n",
    "new[2] = new[2]*np.std(df_qb['氧化锶(SrO)'])+np.mean(df_qb['氧化锶(SrO)'])\n",
    "new[3] = new[3]*np.std(df_qb['氧化钾(K2O)'])+np.mean(df_qb['氧化钾(K2O)'])\n",
    "new2 = np.transpose(new)\n",
    "new2"
   ]
  },
  {
   "cell_type": "code",
   "execution_count": null,
   "id": "c5877abe",
   "metadata": {},
   "outputs": [],
   "source": [
    "for j in range(4):\n",
    "    for i in range(len(df_qb)):\n",
    "        if df_qb.loc[i,'Result'] == j:\n",
    "            print(df_qb.loc[i,'文物采样点'])\n",
    "    print('group',j)"
   ]
  },
  {
   "cell_type": "code",
   "execution_count": null,
   "id": "e14fb92e",
   "metadata": {},
   "outputs": [],
   "source": [
    "df_d2 = df_qb.copy()\n",
    "plt.figure(figsize = (20,10))\n",
    "plt.title('铅钡亚类划分可视化',fontsize = 20)\n",
    "pd.plotting.andrews_curves(df_d2.iloc[:,5:],'Result',color = ['red','green','black','Purple'])"
   ]
  },
  {
   "cell_type": "markdown",
   "id": "b62772c1",
   "metadata": {},
   "source": [
    "### 对纹饰A进行亚类划分"
   ]
  },
  {
   "cell_type": "code",
   "execution_count": null,
   "id": "5e253cc3",
   "metadata": {},
   "outputs": [],
   "source": [
    "# 标记样本\n",
    "idx = 0\n",
    "for i in df.loc[:,'纹饰']:\n",
    "    if i == 'A':\n",
    "        df.loc[idx,'纹饰'] = 0\n",
    "    idx += 1\n",
    "idx = 0\n",
    "for i in df.loc[:,'纹饰']:\n",
    "    if i == 'B':\n",
    "        df.loc[idx,'纹饰'] = 1\n",
    "    idx += 1\n",
    "idx = 0\n",
    "for i in df.loc[:,'纹饰']:\n",
    "    if i == 'C':\n",
    "        df.loc[idx,'纹饰'] = 2\n",
    "    idx += 1\n",
    "df"
   ]
  },
  {
   "cell_type": "code",
   "execution_count": null,
   "id": "3af6dd32",
   "metadata": {},
   "outputs": [],
   "source": [
    "# 寻找重要化学成分\n",
    "X_train, X_test, y_train, y_test = train_test_split(df.iloc[:,5:],df.iloc[:,3],test_size=0.2)\n",
    "param_grid = {\n",
    "    'criterion':['entropy','gini'],\n",
    "    'max_depth':[5, 6, 7, 8],  \n",
    "    'n_estimators':[11,13,15],  \n",
    "    'max_features':[0.3,0.4,0.5],\n",
    "    'min_samples_split':[4,8,12,16] \n",
    "}\n",
    "\n",
    "rfc = ensemble.RandomForestClassifier()\n",
    "rfc_cv = GridSearchCV(estimator=rfc, param_grid=param_grid,\n",
    "                      scoring='roc_auc', cv=4)\n",
    "rfc_cv.fit(X_train, y_train.astype('int'))\n",
    "rfc_cv.best_params_"
   ]
  },
  {
   "cell_type": "code",
   "execution_count": null,
   "id": "125c6514",
   "metadata": {},
   "outputs": [],
   "source": [
    "# 训练随机森林\n",
    "rfc = ensemble.RandomForestClassifier(criterion= 'entropy', max_depth= 5, max_features= 0.3, min_samples_split= 4, n_estimators= 11)\n",
    "rfc.fit(X_train,y_train.astype('int'))\n",
    "test_est = rfc.predict(X_test)\n",
    "print('随机森林精确度')\n",
    "print(metrics.classification_report(test_est, y_test.astype('int')))\n",
    "labels = df.columns[5:]\n",
    "ipt = rfc.feature_importances_\n",
    "indices = np.argsort(ipt)[::-1]\n",
    "for i in range(X_train.shape[1]):\n",
    "    print(\"%2d) %-*s %f\" % (i + 1, 30, labels[indices[i]], ipt[indices[i]]))\n"
   ]
  },
  {
   "cell_type": "code",
   "execution_count": null,
   "id": "bbede943",
   "metadata": {},
   "outputs": [],
   "source": [
    "df_a = df[df['纹饰']=='A']\n",
    "df_norm = df_a[['氧化铝(Al2O3)','氧化镁(MgO)','二氧化硅(SiO2)']].apply(z_norm)\n",
    "X = np.array(df_norm) \n",
    "\n",
    "score = []\n",
    "for i in range(2,len(df_a)):\n",
    "    km = KMeans(n_clusters=i).fit(X)\n",
    "    y_pred = km.labels_\n",
    "    score.append(silhouette_score(X, y_pred))\n",
    "    \n",
    "plt.plot(np.arange(2,len(df_a)),score)\n",
    "plt.scatter(np.arange(2,len(df_a)),score)\n",
    "plt.xlabel('k值')\n",
    "plt.ylabel('轮廓系数')\n",
    "plt.title('最优k值')\n",
    "plt.show()\n",
    "print('最优k值:',score.index(max(score))+2)"
   ]
  },
  {
   "cell_type": "code",
   "execution_count": null,
   "id": "c4ff9ddb",
   "metadata": {},
   "outputs": [],
   "source": [
    "km = KMeans(n_clusters=5).fit(X) \n",
    "print(\"centroids:\\n\", km.cluster_centers_) \n",
    "print(\"results:\\n\", km.labels_) \n",
    "y_pred = km.labels_\n",
    "df_a  = df_a.reset_index(drop = True)\n",
    "df_a['Result'] = km.labels_"
   ]
  },
  {
   "cell_type": "code",
   "execution_count": null,
   "id": "8993d975",
   "metadata": {},
   "outputs": [],
   "source": [
    "new  = np.transpose(km.cluster_centers_)\n",
    "new[0] = new[0]*np.std(df_a['氧化铝(Al2O3)'])+np.mean(df_a['氧化铝(Al2O3)'])\n",
    "new[1] = new[1]*np.std(df_a['氧化镁(MgO)'])+np.mean(df_a['氧化镁(MgO)'])\n",
    "new[2] = new[2]*np.std(df_a['二氧化硅(SiO2)'])+np.mean(df_a['二氧化硅(SiO2)'])\n",
    "new2 = np.transpose(new)\n",
    "\n",
    "new2"
   ]
  },
  {
   "cell_type": "code",
   "execution_count": null,
   "id": "83ada4ca",
   "metadata": {},
   "outputs": [],
   "source": [
    "for j in range(4):    \n",
    "    for i in range(len(df_a)):\n",
    "        if df_a.loc[i,'Result'] == j:\n",
    "            print(df_a.loc[i,'文物采样点'])\n",
    "    print('group',j)"
   ]
  },
  {
   "cell_type": "code",
   "execution_count": null,
   "id": "d1195318",
   "metadata": {},
   "outputs": [],
   "source": [
    "df_d3 = df_a.copy()\n",
    "plt.figure(figsize = (20,10))\n",
    "plt.title('纹饰A亚类划分可视化',fontsize = 20)\n",
    "pd.plotting.andrews_curves(df_d3.iloc[:,5:],'Result',color = ['green','red','yellow','Purple','cyan'])"
   ]
  },
  {
   "cell_type": "markdown",
   "id": "1b26314e",
   "metadata": {},
   "source": [
    "### 对纹饰B进行亚类划分"
   ]
  },
  {
   "cell_type": "code",
   "execution_count": null,
   "id": "736787ba",
   "metadata": {},
   "outputs": [],
   "source": [
    "df_b = df[df['纹饰']=='B']\n",
    "df_norm = df_b[['氧化铝(Al2O3)','氧化镁(MgO)','二氧化硅(SiO2)']].apply(z_norm)\n",
    "X = np.array(df_norm)\n",
    "\n",
    "score = []\n",
    "for i in range(2,len(df_b)):\n",
    "    km = KMeans(n_clusters=i).fit(X) \n",
    "    y_pred = km.labels_\n",
    "    score.append(silhouette_score(X, y_pred))\n",
    "    \n",
    "plt.plot(np.arange(2,len(df_b)),score)\n",
    "plt.scatter(np.arange(2,len(df_b)),score)\n",
    "plt.xlabel('k值')\n",
    "plt.ylabel('轮廓系数')\n",
    "plt.title('最优k值')\n",
    "plt.show()\n",
    "print('最优k值:',score.index(max(score))+2)"
   ]
  },
  {
   "cell_type": "code",
   "execution_count": null,
   "id": "2975b666",
   "metadata": {},
   "outputs": [],
   "source": [
    "km = KMeans(n_clusters=3).fit(X)  \n",
    "print(\"centroids:\\n\", km.cluster_centers_)  \n",
    "print(\"results:\\n\", km.labels_) \n",
    "y_pred = km.labels_\n",
    "df_b  = df_b.reset_index(drop = True)\n",
    "df_b['Result'] = km.labels_"
   ]
  },
  {
   "cell_type": "code",
   "execution_count": null,
   "id": "fa0e438c",
   "metadata": {},
   "outputs": [],
   "source": [
    "new  = np.transpose(km.cluster_centers_)\n",
    "new[0] = new[0]*np.std(df_b['氧化铝(Al2O3)'])+np.mean(df_b['氧化铝(Al2O3)'])\n",
    "new[1] = new[1]*np.std(df_b['氧化镁(MgO)'])+np.mean(df_b['氧化镁(MgO)'])\n",
    "new[2] = new[2]*np.std(df_b['二氧化硅(SiO2)'])+np.mean(df_b['二氧化硅(SiO2)'])\n",
    "new2 = np.transpose(new)\n",
    "new2"
   ]
  },
  {
   "cell_type": "code",
   "execution_count": null,
   "id": "fb5a9780",
   "metadata": {},
   "outputs": [],
   "source": [
    "for j in range(4):    \n",
    "    for i in range(len(df_b)):\n",
    "        if df_b.loc[i,'Result'] == j:\n",
    "            print(df_b.loc[i,'文物采样点'])\n",
    "    print('group',j)"
   ]
  },
  {
   "cell_type": "code",
   "execution_count": null,
   "id": "8009b48d",
   "metadata": {},
   "outputs": [],
   "source": [
    "df_d4 = df_b.copy()\n",
    "plt.figure(figsize = (20,10))\n",
    "plt.title('纹饰B亚类划分可视化',fontsize = 20)\n",
    "pd.plotting.andrews_curves(df_d4.iloc[:,5:],'Result',color = ['blue','green','purple'])"
   ]
  },
  {
   "cell_type": "markdown",
   "id": "53777026",
   "metadata": {},
   "source": [
    "### 对纹饰C进行亚类划分"
   ]
  },
  {
   "cell_type": "code",
   "execution_count": null,
   "id": "dee9c2cb",
   "metadata": {},
   "outputs": [],
   "source": [
    "df_c = df[df['纹饰']=='C']\n",
    "df_norm = df_c[['氧化铝(Al2O3)','氧化镁(MgO)','二氧化硅(SiO2)']].apply(z_norm)  \n",
    "X = np.array(df_norm) \n",
    "score = []\n",
    "for i in range(2,len(df_c)):\n",
    "    km = KMeans(n_clusters=i).fit(X) \n",
    "    y_pred = km.labels_\n",
    "    score.append(silhouette_score(X, y_pred))\n",
    "    \n",
    "plt.plot(np.arange(2,len(df_c)),score)\n",
    "plt.scatter(np.arange(2,len(df_c)),score)\n",
    "plt.xlabel('k值')\n",
    "plt.ylabel('轮廓系数')\n",
    "plt.title('最优k值')\n",
    "plt.show()\n",
    "print('最优k值：',score.index(max(score))+2)"
   ]
  },
  {
   "cell_type": "code",
   "execution_count": null,
   "id": "a4e558d7",
   "metadata": {},
   "outputs": [],
   "source": [
    "km = KMeans(n_clusters=6).fit(X) \n",
    "print(\"centroids:\\n\", km.cluster_centers_)  \n",
    "print(\"results:\\n\", km.labels_)  \n",
    "y_pred = km.labels_\n",
    "df_c  = df_c.reset_index(drop = True)\n",
    "df_c['Result'] = km.labels_"
   ]
  },
  {
   "cell_type": "code",
   "execution_count": null,
   "id": "e7fd3d0b",
   "metadata": {},
   "outputs": [],
   "source": [
    "new  = np.transpose(km.cluster_centers_)\n",
    "new[0] = new[0]*np.std(df_c['氧化铝(Al2O3)'])+np.mean(df_c['氧化铝(Al2O3)'])\n",
    "new[1] = new[1]*np.std(df_c['氧化镁(MgO)'])+np.mean(df_c['氧化镁(MgO)'])\n",
    "new[2] = new[2]*np.std(df_c['二氧化硅(SiO2)'])+np.mean(df_c['二氧化硅(SiO2)'])\n",
    "new2 = np.transpose(new)\n",
    "new2"
   ]
  },
  {
   "cell_type": "code",
   "execution_count": null,
   "id": "ec4d1e58",
   "metadata": {},
   "outputs": [],
   "source": [
    "for j in range(4):  \n",
    "    for i in range(len(df_c)):\n",
    "        if df_c.loc[i,'Result'] == j:\n",
    "            print(df_c.loc[i,'文物采样点'])\n",
    "    print('group',j)"
   ]
  },
  {
   "cell_type": "code",
   "execution_count": null,
   "id": "a4786996",
   "metadata": {},
   "outputs": [],
   "source": [
    "df_d5 = df_c.copy()\n",
    "plt.figure(figsize = (20,10))\n",
    "plt.title('纹饰C亚类划分可视化',fontsize = 20)\n",
    "pd.plotting.andrews_curves(df_d5.iloc[:,5:],'Result',color = ['yellow','green','black','cyan','red','blue'])"
   ]
  },
  {
   "cell_type": "markdown",
   "id": "3268498b",
   "metadata": {},
   "source": [
    "### 对颜色进行亚类划分"
   ]
  },
  {
   "cell_type": "code",
   "execution_count": null,
   "id": "ab60d53c",
   "metadata": {},
   "outputs": [],
   "source": [
    "# 数据处理\n",
    "idx = 0 \n",
    "for i in df['颜色']:\n",
    "    if i == '蓝绿':\n",
    "        df.loc[idx,'颜色'] = 0\n",
    "    else:\n",
    "        df.loc[idx, '颜色'] = 1\n",
    "    idx += 1\n",
    "df = df.dropna(axis = 0,how = 'any')\n",
    "df = df.reset_index(drop = True)"
   ]
  },
  {
   "cell_type": "code",
   "execution_count": null,
   "id": "86d825e2",
   "metadata": {},
   "outputs": [],
   "source": [
    "# 模型调参\n",
    "X_train, X_test, y_train, y_test = train_test_split(df.iloc[:,5:],df.iloc[:,2],test_size=0.2)\n",
    "param_grid = {\n",
    "    'criterion':['entropy','gini'],\n",
    "    'max_depth':[5, 6, 7, 8],  \n",
    "    'n_estimators':[11,13,15],\n",
    "    'max_features':[0.5,1,2],\n",
    "    'min_samples_split':[4,8,12,16] \n",
    "}\n",
    "\n",
    "rfc = ensemble.RandomForestClassifier()\n",
    "rfc_cv = GridSearchCV(estimator=rfc, param_grid=param_grid,\n",
    "                      scoring='roc_auc', cv=4)\n",
    "rfc_cv.fit(X_train, y_train.astype('int'))\n",
    "rfc_cv.best_params_"
   ]
  },
  {
   "cell_type": "code",
   "execution_count": null,
   "id": "32230d91",
   "metadata": {},
   "outputs": [],
   "source": [
    "# 寻找最优化学成分\n",
    "rfc = ensemble.RandomForestClassifier(criterion= 'entropy', max_depth= 8, max_features= 0.5, min_samples_split= 4, n_estimators= 15)\n",
    "rfc.fit(X_train,y_train.astype('int'))\n",
    "test_est = rfc.predict(X_test)\n",
    "print('随机森林精确度...')\n",
    "print(metrics.classification_report(test_est, y_test.astype('int')))\n",
    "labels = df.columns[5:]\n",
    "ipt = rfc.feature_importances_\n",
    "indices = np.argsort(ipt)[::-1]\n",
    "for i in range(X_train.shape[1]):\n",
    "    print(\"%2d) %-*s %f\" % (i + 1, 30, labels[indices[i]], ipt[indices[i]]))"
   ]
  },
  {
   "cell_type": "code",
   "execution_count": null,
   "id": "e1758e7f",
   "metadata": {},
   "outputs": [],
   "source": [
    "df_bg = df[df['颜色']==0]\n",
    "df_norm = df_bg[['氧化锶(SrO)','氧化铅(PbO)','二氧化硅(SiO2)']].apply(z_norm)  \n",
    "X = np.array(df_norm)  \n",
    "score = []\n",
    "for i in range(2,len(df_bg)):\n",
    "    km = KMeans(n_clusters=i).fit(X) \n",
    "    y_pred = km.labels_\n",
    "    score.append(silhouette_score(X, y_pred))\n",
    "    \n",
    "plt.plot(np.arange(2,len(df_bg)),score)\n",
    "plt.scatter(np.arange(2,len(df_bg)),score)\n",
    "plt.xlabel('k值')\n",
    "plt.ylabel('轮廓系数')\n",
    "plt.title('最优k值')\n",
    "plt.show()\n",
    "print('最优k值：',score.index(max(score))+2)"
   ]
  },
  {
   "cell_type": "code",
   "execution_count": null,
   "id": "19f92acb",
   "metadata": {},
   "outputs": [],
   "source": [
    "km = KMeans(n_clusters=3).fit(X)  \n",
    "print(\"centroids:\\n\", km.cluster_centers_) \n",
    "print(\"results:\\n\", km.labels_) \n",
    "y_pred = km.labels_\n",
    "df_bg  = df_bg.reset_index(drop = True)\n",
    "df_bg['Result'] = km.labels_"
   ]
  },
  {
   "cell_type": "code",
   "execution_count": null,
   "id": "11d9b978",
   "metadata": {},
   "outputs": [],
   "source": [
    "new  = np.transpose(km.cluster_centers_)\n",
    "new[0] = new[0]*np.std(df_bg['氧化锶(SrO)'])+np.mean(df_bg['氧化锶(SrO)'])\n",
    "new[1] = new[1]*np.std(df_bg['氧化铅(PbO)'])+np.mean(df_bg['氧化铅(PbO)'])\n",
    "new[2] = new[2]*np.std(df_bg['二氧化硅(SiO2)'])+np.mean(df_bg['二氧化硅(SiO2)'])\n",
    "new2 = np.transpose(new)\n",
    "new2"
   ]
  },
  {
   "cell_type": "code",
   "execution_count": null,
   "id": "69d54d85",
   "metadata": {},
   "outputs": [],
   "source": [
    "for j in range(3):\n",
    "    for i in range(len(df_bg)):\n",
    "        if df_bg.loc[i,'Result'] == j:\n",
    "            print(df_bg.loc[i,'文物采样点'])\n",
    "    print('group',j)"
   ]
  },
  {
   "cell_type": "code",
   "execution_count": null,
   "id": "bd01b961",
   "metadata": {},
   "outputs": [],
   "source": [
    "df_d6 = df_bg.copy()\n",
    "plt.figure(figsize = (20,10))\n",
    "plt.title('蓝绿亚类划分可视化',fontsize = 20)\n",
    "pd.plotting.andrews_curves(df_d6.iloc[:,5:],'Result',color = ['red','green','blue'])"
   ]
  },
  {
   "cell_type": "code",
   "execution_count": null,
   "id": "035f59a3",
   "metadata": {},
   "outputs": [],
   "source": []
  }
 ],
 "metadata": {
  "kernelspec": {
   "display_name": "Python 3 (ipykernel)",
   "language": "python",
   "name": "python3"
  },
  "language_info": {
   "codemirror_mode": {
    "name": "ipython",
    "version": 3
   },
   "file_extension": ".py",
   "mimetype": "text/x-python",
   "name": "python",
   "nbconvert_exporter": "python",
   "pygments_lexer": "ipython3",
   "version": "3.9.7"
  }
 },
 "nbformat": 4,
 "nbformat_minor": 5
}
