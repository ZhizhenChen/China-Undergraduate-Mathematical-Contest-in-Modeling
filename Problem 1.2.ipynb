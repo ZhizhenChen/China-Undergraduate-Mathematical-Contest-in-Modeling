{
 "cells": [
  {
   "cell_type": "code",
   "execution_count": 57,
   "metadata": {},
   "outputs": [],
   "source": [
    "#preset\n",
    "import pandas as pd\n",
    "import numpy as np\n",
    "from scipy import stats as sta\n",
    "from pandas import DataFrame\n",
    "pd.set_option('display.max_rows', None)\n",
    "pd.set_option('display.max_columns', None)\n",
    "\n"
   ]
  },
  {
   "cell_type": "markdown",
   "metadata": {},
   "source": [
    "## 引入数据"
   ]
  },
  {
   "cell_type": "code",
   "execution_count": 58,
   "metadata": {},
   "outputs": [],
   "source": [
    "\n",
    "file_name = '1.xlsx'\n",
    "with open(file_name, 'rb') as f:\n",
    "    all = pd.read_excel(f, sheet_name='Sheet1')\n",
    "with open(file_name, 'rb') as f:\n",
    "    qb = pd.read_excel(f, sheet_name='Sheet2')\n",
    "with open(file_name, 'rb') as f:\n",
    "    gj = pd.read_excel(f, sheet_name='Sheet3')"
   ]
  },
  {
   "cell_type": "markdown",
   "metadata": {},
   "source": [
    "### 第一问：结合玻璃的类型，分析文物样品表面有无风化化学成分含量的统计规律"
   ]
  },
  {
   "cell_type": "code",
   "execution_count": null,
   "metadata": {},
   "outputs": [],
   "source": [
    "\n",
    "QBy=qb.iloc[:,0]\n",
    "QBx = qb.iloc[:,2:16]\n",
    "GJy=gj.iloc[:,0]\n",
    "GJx=gj.iloc[:,2:16]\n",
    "\n",
    "#用Kendall相关系数调查铅钡类型下化学成分含量与有无风化的相关性\n",
    "\n",
    "result = []\n",
    "pvalue=[]\n",
    "for i  in QBx.columns:\n",
    "    p = sta.kendalltau(QBy,QBx[i])\n",
    "    coe = QBy.corr(QBx[i],method='kendall')\n",
    "    pvalue.append(p)\n",
    "    result.append(coe)\n",
    "print(pvalue)\n",
    "o={'铅钡':QBx.columns,'铅钡系数':result}\n",
    "\n",
    "#用Kendall相关系数调查高钾类型下化学成分含量与有无风化的相关性\n",
    "result = []\n",
    "pvalue=[]\n",
    "for i  in GJx.columns:\n",
    "    p = sta.kendalltau(GJy,GJx[i])\n",
    "    coe = GJy.corr(GJx[i],method='kendall')\n",
    "    pvalue.append(p)\n",
    "    result.append(coe)\n",
    "o['高钾']=GJx.columns\n",
    "o['高钾系数']=result\n",
    "\n",
    "o=DataFrame(o)\n",
    "\n",
    "o\n",
    "\n"
   ]
  },
  {
   "cell_type": "markdown",
   "metadata": {},
   "source": [
    "### Q1-3"
   ]
  },
  {
   "cell_type": "code",
   "execution_count": null,
   "metadata": {},
   "outputs": [],
   "source": [
    "file_name = '3.xlsx'\n",
    "with open(file_name, 'rb') as f:\n",
    "    qb = pd.read_excel(f, sheet_name='Sheet4')\n",
    "with open(file_name, 'rb') as f:\n",
    "    gj = pd.read_excel(f, sheet_name='Sheet5')\n",
    "\n",
    "#将风化程度分类\n",
    "yanzhong=qb[qb[\"表面风化\"].str.contains(\"严重风化\")]\n",
    "qb=qb.drop(qb[qb[\"表面风化\"].str.contains(\"严重风化\")].index)\n",
    "QByanzhong=yanzhong.iloc[0:,2:16]\n",
    "QBwufengHua=qb[qb[\"表面风化\"].str.contains(\"无风化\")]\n",
    "QBfeng=qb[~qb[\"表面风化\"].str.contains(\"无风化\",\"na=False\")]\n",
    "QBwufengHua=QBwufengHua.iloc[0:,2:16]\n",
    "QBfengHua=QBfeng.iloc[0:,2:16]\n",
    "\n",
    "GJwufengHua = gj[gj[\"表面风化\"].str.contains(\"无风化\")]\n",
    "GJfeng = gj[~gj[\"表面风化\"].str.contains(\"无风化\",\"na=False\")]\n",
    "GJwufengHua= GJwufengHua.iloc[0:,2:16]\n",
    "GJfengHua= GJfeng.iloc[0:,2:16]\n",
    "\n",
    "\n",
    "\n",
    "\n",
    "#各风化程度内的化学成分均值\n",
    "data={}\n",
    "data=DataFrame(data,index=QBx.columns)\n",
    "\n",
    "#铅钡风化\n",
    "QBw=QBwufengHua.mean(axis=0)\n",
    "QBf=QBfengHua.mean(axis=0)\n",
    "\n",
    "#严重风化\n",
    "QBy=QByanzhong.mean(axis=0)\n",
    "\n",
    "#高钾风化\n",
    "GJw=GJwufengHua.mean(axis=0)\n",
    "GJf=GJfengHua.mean(axis=0)\n",
    "\n",
    "#得出比值\n",
    "QBfraction=QBf/QBw\n",
    "GJfraction=GJf/GJw\n",
    "\n",
    "data['铅钡无风化均值']=QBw\n",
    "data['铅钡风化均值']=QBf\n",
    "data['铅钡严重风化均值']=QBy\n",
    "data['高钾无风化均值']=GJw\n",
    "data['高钾风化均值']=GJf\n",
    "data['铅钡比值']=QBfraction\n",
    "data['高钾比值']=GJfraction\n",
    "data['铅钡严重风化比值']=QBy/QBw\n",
    "\n",
    "\n",
    "#还原各风化类型玻璃：\n",
    "tempt = QByanzhong.div(QBy/QBw)\n",
    "sum = 0.01*tempt.sum(axis=1)\n",
    "yanzhongBefore=tempt.div(sum,axis=0)\n",
    "yanzhongBefore['检测点']=yanzhong.iloc[:,1]\n",
    "\n",
    "tempt = QBfengHua.div(QBfraction)\n",
    "sum = 0.01*tempt.sum(axis=1)\n",
    "QBbefore=tempt.div(sum,axis=0)\n",
    "QBbefore['检测点']=QBfeng.iloc[:,1]\n",
    "\n",
    "tempt = GJfengHua.div(GJfraction)\n",
    "sum = 0.01*tempt.sum(axis=1)\n",
    "GJbefore=tempt.div(sum,axis=0)\n",
    "GJbefore['检测点']=GJfeng.iloc[:,1]\n",
    "\n",
    "\n",
    "\n",
    "\n",
    "\n",
    "\n",
    "\n"
   ]
  }
 ],
 "metadata": {
  "interpreter": {
   "hash": "e371fa4fd9770cca43bd1f7a710c4aa5306a9b01fc66d374bf97fd985a8577b4"
  },
  "kernelspec": {
   "display_name": "Python 3 (ipykernel)",
   "language": "python",
   "name": "python3"
  },
  "language_info": {
   "codemirror_mode": {
    "name": "ipython",
    "version": 3
   },
   "file_extension": ".py",
   "mimetype": "text/x-python",
   "name": "python",
   "nbconvert_exporter": "python",
   "pygments_lexer": "ipython3",
   "version": "3.9.7"
  }
 },
 "nbformat": 4,
 "nbformat_minor": 2
}
