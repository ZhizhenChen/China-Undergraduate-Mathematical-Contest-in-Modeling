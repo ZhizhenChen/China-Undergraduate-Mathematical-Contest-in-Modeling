{
 "cells": [
  {
   "cell_type": "code",
   "execution_count": null,
   "id": "1df86534",
   "metadata": {},
   "outputs": [],
   "source": [
    "import pandas as pd"
   ]
  },
  {
   "cell_type": "code",
   "execution_count": null,
   "id": "52241644",
   "metadata": {},
   "outputs": [],
   "source": [
    "df = pd.read_excel('副本附件2.xlsx')\n",
    "df = df.fillna(0)\n"
   ]
  }
 ],
 "metadata": {
  "kernelspec": {
   "display_name": "Python 3 (ipykernel)",
   "language": "python",
   "name": "python3"
  },
  "language_info": {
   "codemirror_mode": {
    "name": "ipython",
    "version": 3
   },
   "file_extension": ".py",
   "mimetype": "text/x-python",
   "name": "python",
   "nbconvert_exporter": "python",
   "pygments_lexer": "ipython3",
   "version": "3.9.7"
  }
 },
 "nbformat": 4,
 "nbformat_minor": 5
}
