{
 "cells": [
  {
   "cell_type": "markdown",
   "id": "ee2681eb",
   "metadata": {},
   "source": [
    "## 第二题：分析高钾玻璃、铅钡玻璃的分类规律"
   ]
  },
  {
   "cell_type": "code",
   "execution_count": null,
   "id": "37c76bff",
   "metadata": {},
   "outputs": [],
   "source": [
    "import  pandas as pd\n",
    "import numpy as np\n",
    "from sklearn.utils import shuffle\n",
    "from sklearn.model_selection import train_test_split\n",
    "import sklearn.ensemble as ensemble \n",
    "import graphviz\n",
    "import matplotlib.pyplot as plt"
   ]
  },
  {
   "cell_type": "code",
   "execution_count": null,
   "id": "fd0e25a9",
   "metadata": {},
   "outputs": [],
   "source": [
    "df = pd.read_excel('C题.xlsx')\n",
    "df = shuffle(df, random_state=42) \n",
    "df = df.reset_index(drop = True)\n",
    "idx = 0\n",
    "for i in df.loc[:,'类型']:\n",
    "    if i == '高钾':\n",
    "        df.loc[idx,'类型'] = 0\n",
    "    idx += 1\n",
    "df\n",
    "idx = 0\n",
    "for i in df.loc[:,'类型']:\n",
    "    if i == '铅钡':\n",
    "        df.loc[idx,'类型'] = 1\n",
    "    idx += 1\n",
    "df"
   ]
  },
  {
   "cell_type": "code",
   "execution_count": null,
   "id": "7d0430f3",
   "metadata": {},
   "outputs": [],
   "source": [
    "# 模型调参\n",
    "X_train, X_test, y_train, y_test = train_test_split(df.iloc[:,3:],df.iloc[:,2],test_size=0.2)\n",
    "param_grid = {\n",
    "    'criterion':['entropy','gini'],\n",
    "    'max_depth':[5, 6, 7, 8],\n",
    "    'n_estimators':[11,13,15],  \n",
    "    'max_features':[0.3,0.4,0.5],\n",
    "    'min_samples_split':[4,8,12,16]  \n",
    "}\n",
    "\n",
    "rfc = ensemble.RandomForestClassifier()\n",
    "rfc_cv = GridSearchCV(estimator=rfc, param_grid=param_grid,\n",
    "                      scoring='roc_auc', cv=4)\n",
    "rfc_cv.fit(X_train, y_train.astype('int'))\n",
    "test_est = rfc_cv.predict(X_test)\n",
    "print('精确矩阵')\n",
    "print(metrics.classification_report(test_est, y_test.astype('int')))\n",
    "print('AUC')\n",
    "fpr_test, tpr_test, th_test = metrics.roc_curve(test_est, y_test.astype('int'))\n",
    "print('AUC = %.4f' %metrics.auc(fpr_test, tpr_test))"
   ]
  },
  {
   "cell_type": "code",
   "execution_count": null,
   "id": "a4956030",
   "metadata": {},
   "outputs": [],
   "source": [
    "print('best_params,best_score:',rfc_cv.best_params_,rfc_cv.best_score_)"
   ]
  },
  {
   "cell_type": "code",
   "execution_count": null,
   "id": "a0362aae",
   "metadata": {},
   "outputs": [],
   "source": [
    "# 找出重要特征\n",
    "rfc = ensemble.RandomForestClassifier(criterion= 'entropy', max_depth= 5, max_features= 0.3, min_samples_split= 4, n_estimators= 11)\n",
    "rfc.fit(X_train,y_train.astype('int'))\n",
    "labels = df.columns[3:]\n",
    "ipt = rfc.feature_importances_\n",
    "indices = np.argsort(ipt)[::-1]\n",
    "for i in range(X_train.shape[1]):\n",
    "    print(\"%2d) %-*s %f\" % (i + 1, 30, labels[indices[i]], ipt[indices[i]]))"
   ]
  },
  {
   "cell_type": "code",
   "execution_count": null,
   "id": "08afe093",
   "metadata": {},
   "outputs": [],
   "source": [
    "# 可视化随机森林\n",
    "\n",
    "estimator = rfc.estimators_[10]\n",
    "data = tree.export_graphviz(estimator\n",
    "                                ,feature_names=df.columns[3:] \n",
    "                                ,class_names=['高钾','铅钡'] \n",
    "                                ,filled=True\n",
    "                                ,rounded=True\n",
    "                                    ,out_file=None)\n",
    "graph = graphviz.Source(data)\n",
    "graph"
   ]
  },
  {
   "cell_type": "markdown",
   "id": "c5e6b770",
   "metadata": {},
   "source": [
    "## 第三题：鉴别表三所属类型"
   ]
  },
  {
   "cell_type": "code",
   "execution_count": 16,
   "id": "bacbbce6",
   "metadata": {},
   "outputs": [
    {
     "data": {
      "text/plain": [
       "array([0, 1, 1, 1, 1, 0, 0, 1])"
      ]
     },
     "execution_count": 16,
     "metadata": {},
     "output_type": "execute_result"
    }
   ],
   "source": [
    "est = pd.read_excel('副本附件.xlsx')\n",
    "est = est.fillna(0)\n",
    "X_test = est.iloc[:,2:]\n",
    "result = rfc.predict(X_test)\n",
    "result"
   ]
  }
 ],
 "metadata": {
  "kernelspec": {
   "display_name": "Python 3 (ipykernel)",
   "language": "python",
   "name": "python3"
  },
  "language_info": {
   "codemirror_mode": {
    "name": "ipython",
    "version": 3
   },
   "file_extension": ".py",
   "mimetype": "text/x-python",
   "name": "python",
   "nbconvert_exporter": "python",
   "pygments_lexer": "ipython3",
   "version": "3.9.7"
  }
 },
 "nbformat": 4,
 "nbformat_minor": 5
}
